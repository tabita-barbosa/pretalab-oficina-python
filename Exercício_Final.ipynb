{
  "nbformat": 4,
  "nbformat_minor": 0,
  "metadata": {
    "colab": {
      "provenance": [],
      "include_colab_link": true
    },
    "kernelspec": {
      "name": "python3",
      "display_name": "Python 3"
    },
    "language_info": {
      "name": "python"
    }
  },
  "cells": [
    {
      "cell_type": "markdown",
      "metadata": {
        "id": "view-in-github",
        "colab_type": "text"
      },
      "source": [
        "<a href=\"https://colab.research.google.com/github/tabita-barbosa/pretalab-oficina-python/blob/main/Exerc%C3%ADcio_Final.ipynb\" target=\"_parent\"><img src=\"https://colab.research.google.com/assets/colab-badge.svg\" alt=\"Open In Colab\"/></a>"
      ]
    },
    {
      "cell_type": "markdown",
      "source": [
        "# Contagem de Medalhas\n",
        "\n",
        "Crie um programa que receba o número de medalhas de ouro, prata e bronze de um país nas Olimpíadas e calcule o total de medalhas.\n",
        "Quando escrever 'sair', o programa deverá encerrar e mostrar na tela o ranking de medalhas no formato:"
      ],
      "metadata": {
        "id": "RQN1e5FZY6SZ"
      }
    },
    {
      "cell_type": "code",
      "source": [
        "#Ranking de medalhas:\n",
        "#Brasil: 7 medalhas\n",
        "#França: 6 medalhas\n",
        "#Argentina: 3 medalhas"
      ],
      "metadata": {
        "id": "gCq_KLHzZSzb"
      },
      "execution_count": null,
      "outputs": []
    },
    {
      "cell_type": "code",
      "execution_count": 26,
      "metadata": {
        "id": "AJJhjxiPTd5s",
        "colab": {
          "base_uri": "https://localhost:8080/"
        },
        "outputId": "09f9a460-7aa0-4469-e482-5f36ace405c8"
      },
      "outputs": [
        {
          "output_type": "stream",
          "name": "stdout",
          "text": [
            "Digite o nome do país [ou SAIR para encerrar]: br\n",
            "Digite o numero de medalhas de ouro : 13\n",
            "Digite o numero de medalhas de prata : 1\n",
            "Digite o numero de medalhas de bronze : 1\n",
            "[{'nome': 'br', 'medalhas': 15}]\n",
            "Digite o nome do país [ou SAIR para encerrar]: sair\n",
            "ranking de medalhas:\n",
            "br: 15 medalhas\n"
          ]
        }
      ],
      "source": [
        "# Resposta aqui salario * (salario > 1000 ? 0.10 : 0.15)\n",
        "\n",
        "dicPais = []\n",
        "medalhas = ['ouro', 'prata', 'bronze']\n",
        "nome = ''\n",
        "numMedalhas = 0\n",
        "\n",
        "while nome.upper() != 'SAIR' :\n",
        "  nome = input('Digite o nome do país [ou SAIR para encerrar]: ')\n",
        "  if nome.upper() == 'SAIR' : break\n",
        "  for x in medalhas:\n",
        "    inputMedalha = int(input('Digite o numero de medalhas de % s : ' % x))\n",
        "    numMedalhas += inputMedalha\n",
        "  dicPais.append({'nome': nome, 'medalhas': numMedalhas})\n",
        "else:\n",
        "  print(\"fim while\")\n",
        "\n",
        "print('ranking de medalhas:')\n",
        "for x in dicPais:\n",
        "  nome = x['nome']\n",
        "  medalha = x['medalhas']\n",
        "  print(f'{nome}: {medalha} medalhas')\n"
      ]
    }
  ]
}