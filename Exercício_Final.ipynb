{
  "nbformat": 4,
  "nbformat_minor": 0,
  "metadata": {
    "colab": {
      "provenance": [],
      "include_colab_link": true
    },
    "kernelspec": {
      "name": "python3",
      "display_name": "Python 3"
    },
    "language_info": {
      "name": "python"
    }
  },
  "cells": [
    {
      "cell_type": "markdown",
      "metadata": {
        "id": "view-in-github",
        "colab_type": "text"
      },
      "source": [
        "<a href=\"https://colab.research.google.com/github/tabita-barbosa/pretalab-oficina-python/blob/main/Exerc%C3%ADcio_Final.ipynb\" target=\"_parent\"><img src=\"https://colab.research.google.com/assets/colab-badge.svg\" alt=\"Open In Colab\"/></a>"
      ]
    },
    {
      "cell_type": "markdown",
      "source": [
        "# Contagem de Medalhas\n",
        "\n",
        "Crie um programa que receba o número de medalhas de ouro, prata e bronze de um país nas Olimpíadas e calcule o total de medalhas.\n",
        "Quando escrever 'sair', o programa deverá encerrar e mostrar na tela o ranking de medalhas no formato:"
      ],
      "metadata": {
        "id": "RQN1e5FZY6SZ"
      }
    },
    {
      "cell_type": "code",
      "source": [
        "#Ranking de medalhas:\n",
        "#Brasil: 7 medalhas\n",
        "#França: 6 medalhas\n",
        "#Argentina: 3 medalhas"
      ],
      "metadata": {
        "id": "gCq_KLHzZSzb"
      },
      "execution_count": null,
      "outputs": []
    },
    {
      "cell_type": "code",
      "execution_count": 22,
      "metadata": {
        "id": "AJJhjxiPTd5s",
        "colab": {
          "base_uri": "https://localhost:8080/",
          "height": 106
        },
        "outputId": "58d2b511-3727-424f-9e92-30f11cd6a9bf"
      },
      "outputs": [
        {
          "output_type": "error",
          "ename": "SyntaxError",
          "evalue": "f-string: unmatched '[' (<ipython-input-22-5c2abeacdbdc>, line 21)",
          "traceback": [
            "\u001b[0;36m  File \u001b[0;32m\"<ipython-input-22-5c2abeacdbdc>\"\u001b[0;36m, line \u001b[0;32m21\u001b[0m\n\u001b[0;31m    print(f'{x['nome']} : {x['medalhas']} medalhas')\u001b[0m\n\u001b[0m                ^\u001b[0m\n\u001b[0;31mSyntaxError\u001b[0m\u001b[0;31m:\u001b[0m f-string: unmatched '['\n"
          ]
        }
      ],
      "source": [
        "# Resposta aqui salario * (salario > 1000 ? 0.10 : 0.15)\n",
        "\n",
        "dicPais = []\n",
        "medalhas = ['ouro', 'prata', 'bronze']\n",
        "nome = ''\n",
        "numMedalhas = 0\n",
        "\n",
        "while nome.upper() != 'SAIR' :\n",
        "  nome = input('Digite o nome do país [ou SAIR para encerrar]: ')\n",
        "  if nome.upper() == 'SAIR' : break\n",
        "  for x in medalhas:\n",
        "    inputMedalha = int(input('Digite o numero de medalhas de % s : ' % x))\n",
        "    numMedalhas += inputMedalha\n",
        "  dicPais.append({'nome': nome, 'medalhas': numMedalhas})\n",
        "  print(dicPais)\n",
        "else:\n",
        "  print(\"fim while\")\n",
        "\n",
        "print('ranking de medalhas:')\n",
        "for x in dicPais:\n",
        "  print('x['nome'] : x['medalhas'] medalhas')\n"
      ]
    }
  ]
}